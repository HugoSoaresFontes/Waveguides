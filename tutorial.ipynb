{
 "cells": [
  {
   "cell_type": "markdown",
   "metadata": {},
   "source": [
    "<h1>Rectangular and circular Waveguides: modes and Fco Calculator</h1>"
   ]
  },
  {
   "cell_type": "markdown",
   "metadata": {},
   "source": [
    "<p style=\"text-align: justify; text-indent:4em\"> \n",
    "In communication engineering and electromagnetism, <b>waveguides</b> are structures that direct / conveys electromagnetic waves. They are, in short, a hollow metal filled with a dielectric, commonly the air. In general, they have a rectangular or circular shape.\n",
    "</p>\n",
    "\n",
    "<img src=\"static/basic_waveguides.jpg\">"
   ]
  },
  {
   "cell_type": "markdown",
   "metadata": {},
   "source": [
    "<p style=\"text-align: justify; text-indent:4em\">  The lower cutoff frequency (or wavelength) for a particular mode in rectangular waveguide is determined by the following equations: \n",
    "</p>\n",
    "\n",
    "\\begin{align*} \n",
    "(f_c)_{mn} = \\frac{1} {2 \\pi \\sqrt{\\epsilon  \\mu}\\ }\\ \\sqrt{ \\left ( \\frac{m . \\pi}{a} \\right )^2 + \\left ( \\frac{n . \\pi}{b} \\right )^2  }\\ \\left [ Hz \\right ]\t\n",
    "\\end{align*}\n",
    "\n",
    "\\begin{align*} \n",
    "(\\lambda_c)_{mn} = \\frac{2} { \\sqrt{ \\left ( \\frac{m}{a} \\right )^2 + \\left ( \\frac{n}{b} \\right )^2 }\\ } \\left [ meters \\right ]\t\n",
    "\\end{align*}\n",
    "\n",
    "<img src=\"static/rectangular_waveguide.jpg\">"
   ]
  },
  {
   "cell_type": "code",
   "execution_count": 11,
   "metadata": {
    "collapsed": false
   },
   "outputs": [],
   "source": [
    "# -*- coding: utf-8 -*-\n",
    "\n",
    "import math\n",
    "\n",
    "class RectangularWaveGuide():\n",
    "\n",
    "    def __init__(self, a: float=None, b: float=None, E: float=8.854187816999999*math.pow(10, -12), \n",
    "                 U: float=1.2566370614359173 * math.pow(10, -6), S: float=299792458.011):\n",
    "        \"\"\"\n",
    "        Constructor Class\n",
    "        :param a: Inside width (m), longest dimension\n",
    "        :param b: Inside height (m), shortest dimension\n",
    "        :param E: Permittivity\n",
    "        :param U: Permeability\n",
    "        :param S: Speed propagation\n",
    "        \"\"\"\n",
    "        self.a = a\n",
    "        self.b = b\n",
    "        self.E = E\n",
    "        self.U = U\n",
    "        self.S = S\n",
    "           \n",
    "\n",
    "    def setE(self, E):\n",
    "        \"\"\"\n",
    "        Set the Permittivity\n",
    "        :param E: Permittivity\n",
    "        \"\"\"\n",
    "        self.E = E\n",
    "\n",
    "    def setU(self, U):\n",
    "        \"\"\"\n",
    "        Set the Permeability\n",
    "        :param U: Permeability\n",
    "        \"\"\"\n",
    "        self.U = U\n",
    "\n",
    "    def calcS(self):\n",
    "        \"\"\"\n",
    "        calculate speed\n",
    "        \"\"\"\n",
    "        self.S = 1 / math.sqrt(self.U * self.E)\n",
    "\n",
    "    def findCutOff(self, m, n):\n",
    "        \"\"\"\n",
    "        find the lower cutoff frequency (or wavelength) for a particular mode in rectangular waveguide\n",
    "        :param m: Number of 1⁄2-wavelength variations of fields in the \"a\" direction\n",
    "        :param n: Number of 1⁄2-wavelength variations of fields in the \"b\" direction\n",
    "        \"\"\"\n",
    "        cf = (self.S/(2 * math.pi)) * math.sqrt(\n",
    "            math.pow(( (m * math.pi) / self.a ), 2) + math.pow(( (n * math.pi) / self.b ), 2)\n",
    "        )\n",
    "        return cf"
   ]
  },
  {
   "cell_type": "code",
   "execution_count": 27,
   "metadata": {
    "collapsed": false
   },
   "outputs": [
    {
     "name": "stdout",
     "output_type": "stream",
     "text": [
      "[[  0.00000000e+00   2.07785180e+09   4.15570360e+09   6.23355541e+09]\n",
      " [  4.40353199e+09   4.86914388e+09   6.05483001e+09   7.63205785e+09]\n",
      " [  8.80706398e+09   9.04885872e+09   9.73828776e+09   1.07898836e+10]\n",
      " [  1.32105960e+10   1.33730069e+10   1.38488165e+10   1.46074316e+10]]\n"
     ]
    },
    {
     "data": {
      "image/png": "[encoded data removed]",
      "text/plain": [
       "<matplotlib.figure.Figure at 0x7f1f9f583b00>"
      ]
     },
     "metadata": {},
     "output_type": "display_data"
    }
   ],
   "source": [
    "from mpl_toolkits.mplot3d import Axes3D\n",
    "import matplotlib.pyplot as plt\n",
    "import numpy as np \n",
    "\n",
    "len_m = 4\n",
    "len_n = 4\n",
    "\n",
    "m,n = np.meshgrid(np.arange(len_m), np.arange(len_n))\n",
    "cf = np.empty((len_m, len_n))\n",
    "guia = RectangularWaveGuide(a=0.07214, b=0.03404)\n",
    "\n",
    "for i in range(len_m):\n",
    "    for j in range(len_n):\n",
    "        cf[i][j] = guia.findCutOff(m[i][j], n[i][j])\n",
    "        \n",
    "print(cf)\n",
    "\n",
    "fig = plt.figure()\n",
    "plt.contourf(m, n, cf)\n",
    "plt.colorbar()\n",
    "\n",
    "plt.show()"
   ]
  },
  {
   "cell_type": "code",
   "execution_count": 8,
   "metadata": {
    "collapsed": false
   },
   "outputs": [
    {
     "data": {
      "text/plain": [
       "1.2566370614359173e-06"
      ]
     },
     "execution_count": 8,
     "metadata": {},
     "output_type": "execute_result"
    }
   ],
   "source": []
  }
 ],
 "metadata": {
  "anaconda-cloud": {},
  "kernelspec": {
   "display_name": "Python [conda root]",
   "language": "python",
   "name": "conda-root-py"
  },
  "language_info": {
   "codemirror_mode": {
    "name": "ipython",
    "version": 3
   },
   "file_extension": ".py",
   "mimetype": "text/x-python",
   "name": "python",
   "nbconvert_exporter": "python",
   "pygments_lexer": "ipython3",
   "version": "3.5.2"
  }
 },
 "nbformat": 4,
 "nbformat_minor": 1
}
